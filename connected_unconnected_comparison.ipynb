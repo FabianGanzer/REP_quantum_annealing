{
 "cells": [
  {
   "cell_type": "code",
   "execution_count": 52,
   "metadata": {},
   "outputs": [],
   "source": [
    "import numpy as np\n",
    "import matplotlib.pyplot as plt\n",
    "from hamming_distance_distribution import hamming_distance\n",
    "from annealing import is_connected, adjacency_from_couplings"
   ]
  },
  {
   "cell_type": "code",
   "execution_count": 53,
   "metadata": {},
   "outputs": [],
   "source": [
    "def annealing_by_connection(blocksize, fname):\n",
    "\n",
    "    # read data from file\n",
    "    data = np.load(fname, allow_pickle=True).item()\n",
    "\n",
    "    N_blocks = int(data['size']/blocksize)\n",
    "    N_correct_connected     = np.zeros(N_blocks)\n",
    "    N_correct_unconnected   = np.zeros(N_blocks)\n",
    "    N_connected             = np.zeros(N_blocks)\n",
    "    N_unconnected           = np.zeros(N_blocks)\n",
    "\n",
    "    for j in range(N_blocks):\n",
    "\n",
    "        for i in range(blocksize):\n",
    "            # get annealing results\n",
    "            J_n         = data[\"J_n\"][j*blocksize + i]\n",
    "            alpha       = data[\"alpha\"][j*blocksize + i]\n",
    "            gs_array1   = data[\"gs_array\"][j*blocksize + i]\n",
    "      \n",
    "            # classify annealing result\n",
    "            d_Hamming = hamming_distance(alpha, gs_array1)\n",
    "            connected = is_connected(adjacency_from_couplings(J_n))\n",
    "\n",
    "            if connected:\n",
    "                N_connected[j] += 1\n",
    "                if d_Hamming==0:\n",
    "                    N_correct_connected[j] += 1\n",
    "\n",
    "            if not connected:\n",
    "                N_unconnected[j] += 1\n",
    "                if d_Hamming==0:\n",
    "                    N_correct_unconnected[j] += 1\n",
    "\n",
    "    return N_correct_connected, N_correct_unconnected, N_connected, N_unconnected\n"
   ]
  },
  {
   "cell_type": "code",
   "execution_count": 54,
   "metadata": {},
   "outputs": [],
   "source": [
    "# ---------- Parameters for reading data file -------------\n",
    "path = \"./annealing_data/\"\n",
    "\n",
    "N = 5               # number of users\n",
    "M = 4               # length of id-sequence for every user\n",
    "K = 100              # number of antennas\n",
    "xi = 0              # std of thermal noise\n",
    "\n",
    "thres_min = 0.0\n",
    "thres_max = 0.4\n",
    "thres_step = 0.01\n",
    "\n",
    "blocksize = 100       # resolution of y axis (equal to N_repeat from other program)"
   ]
  },
  {
   "cell_type": "code",
   "execution_count": 55,
   "metadata": {},
   "outputs": [
    {
     "name": "stdout",
     "output_type": "stream",
     "text": [
      "file includes 300 runs which get split into 3 blocks of size 100.\n",
      "0: ./annealing_data/neglection_thres_0.0_N_5_M_4_K_100_xi_0.npy\n",
      "1: ./annealing_data/neglection_thres_0.01_N_5_M_4_K_100_xi_0.npy\n",
      "2: ./annealing_data/neglection_thres_0.02_N_5_M_4_K_100_xi_0.npy\n",
      "3: ./annealing_data/neglection_thres_0.03_N_5_M_4_K_100_xi_0.npy\n",
      "4: ./annealing_data/neglection_thres_0.04_N_5_M_4_K_100_xi_0.npy\n",
      "5: ./annealing_data/neglection_thres_0.05_N_5_M_4_K_100_xi_0.npy\n",
      "6: ./annealing_data/neglection_thres_0.06_N_5_M_4_K_100_xi_0.npy\n",
      "7: ./annealing_data/neglection_thres_0.07_N_5_M_4_K_100_xi_0.npy\n",
      "8: ./annealing_data/neglection_thres_0.08_N_5_M_4_K_100_xi_0.npy\n",
      "9: ./annealing_data/neglection_thres_0.09_N_5_M_4_K_100_xi_0.npy\n",
      "10: ./annealing_data/neglection_thres_0.1_N_5_M_4_K_100_xi_0.npy\n",
      "11: ./annealing_data/neglection_thres_0.11_N_5_M_4_K_100_xi_0.npy\n",
      "12: ./annealing_data/neglection_thres_0.12_N_5_M_4_K_100_xi_0.npy\n",
      "13: ./annealing_data/neglection_thres_0.13_N_5_M_4_K_100_xi_0.npy\n",
      "14: ./annealing_data/neglection_thres_0.14_N_5_M_4_K_100_xi_0.npy\n",
      "15: ./annealing_data/neglection_thres_0.15_N_5_M_4_K_100_xi_0.npy\n",
      "16: ./annealing_data/neglection_thres_0.16_N_5_M_4_K_100_xi_0.npy\n",
      "17: ./annealing_data/neglection_thres_0.17_N_5_M_4_K_100_xi_0.npy\n",
      "18: ./annealing_data/neglection_thres_0.18_N_5_M_4_K_100_xi_0.npy\n",
      "19: ./annealing_data/neglection_thres_0.19_N_5_M_4_K_100_xi_0.npy\n",
      "20: ./annealing_data/neglection_thres_0.2_N_5_M_4_K_100_xi_0.npy\n",
      "21: ./annealing_data/neglection_thres_0.21_N_5_M_4_K_100_xi_0.npy\n",
      "22: ./annealing_data/neglection_thres_0.22_N_5_M_4_K_100_xi_0.npy\n",
      "23: ./annealing_data/neglection_thres_0.23_N_5_M_4_K_100_xi_0.npy\n",
      "24: ./annealing_data/neglection_thres_0.24_N_5_M_4_K_100_xi_0.npy\n",
      "25: ./annealing_data/neglection_thres_0.25_N_5_M_4_K_100_xi_0.npy\n",
      "26: ./annealing_data/neglection_thres_0.26_N_5_M_4_K_100_xi_0.npy\n",
      "27: ./annealing_data/neglection_thres_0.27_N_5_M_4_K_100_xi_0.npy\n",
      "28: ./annealing_data/neglection_thres_0.28_N_5_M_4_K_100_xi_0.npy\n",
      "29: ./annealing_data/neglection_thres_0.29_N_5_M_4_K_100_xi_0.npy\n",
      "30: ./annealing_data/neglection_thres_0.3_N_5_M_4_K_100_xi_0.npy\n",
      "31: ./annealing_data/neglection_thres_0.31_N_5_M_4_K_100_xi_0.npy\n",
      "32: ./annealing_data/neglection_thres_0.32_N_5_M_4_K_100_xi_0.npy\n",
      "33: ./annealing_data/neglection_thres_0.33_N_5_M_4_K_100_xi_0.npy\n",
      "34: ./annealing_data/neglection_thres_0.34_N_5_M_4_K_100_xi_0.npy\n",
      "35: ./annealing_data/neglection_thres_0.35_N_5_M_4_K_100_xi_0.npy\n",
      "36: ./annealing_data/neglection_thres_0.36_N_5_M_4_K_100_xi_0.npy\n",
      "37: ./annealing_data/neglection_thres_0.37_N_5_M_4_K_100_xi_0.npy\n",
      "38: ./annealing_data/neglection_thres_0.38_N_5_M_4_K_100_xi_0.npy\n",
      "39: ./annealing_data/neglection_thres_0.39_N_5_M_4_K_100_xi_0.npy\n",
      "40: ./annealing_data/neglection_thres_0.4_N_5_M_4_K_100_xi_0.npy\n"
     ]
    }
   ],
   "source": [
    "# ---------- Program ----------\n",
    "thres_min = float(thres_min)\n",
    "thres_max = float(thres_max)\n",
    "\n",
    "N_neglection_thres = int((thres_max-thres_min)/thres_step)+1\n",
    "data = np.load(path + f\"neglection_thres_{thres_min}_N_5_M_4_K_100_xi_0.npy\", allow_pickle=True).item()\n",
    "\n",
    "N_blocks = int(data[\"size\"]/blocksize)\n",
    "print(f\"file includes {data['size']} runs which get split into {N_blocks} blocks of size {blocksize}.\")\n",
    "N_stat = N_blocks\n",
    "\n",
    "N_correct_connected     = np.zeros(shape=(N_neglection_thres, N_stat))\n",
    "N_correct_unconnected   = np.zeros(shape=(N_neglection_thres, N_stat))\n",
    "N_connected             = np.zeros(shape=(N_neglection_thres, N_stat))\n",
    "N_unconnected           = np.zeros(shape=(N_neglection_thres, N_stat))\n",
    "\n",
    "neglection_thres = np.zeros(N_neglection_thres)\n",
    "\n",
    "for i in range(N_neglection_thres):\n",
    "    neglection_thres[i] = thres_min + i*thres_step\n",
    "    neglection_thres[i] = np.round(neglection_thres[i], 6)\n",
    "\n",
    "    fname = path + f\"neglection_thres_{neglection_thres[i]}_N_{N}_M_{M}_K_{K}_xi_{xi}.npy\"\n",
    "    print(f\"{i}: {fname}\")\n",
    "    result = annealing_by_connection(blocksize, fname)\n",
    "\n",
    "    N_correct_connected[i]      = result[0]\n",
    "    N_correct_unconnected[i]    = result[1]\n",
    "    N_connected[i]              = result[2]\n",
    "    N_unconnected[i]            = result[3]\n"
   ]
  },
  {
   "cell_type": "code",
   "execution_count": 56,
   "metadata": {},
   "outputs": [
    {
     "name": "stdout",
     "output_type": "stream",
     "text": [
      "Division by zero: N_connected   = 0 at (array([28, 29, 30, 30, 31, 32, 32, 32, 33, 33, 33, 34, 34, 34, 35, 35, 35,\n",
      "       36, 36, 36, 37, 37, 37, 38, 38, 38, 39, 39, 39, 40, 40, 40]), array([2, 1, 1, 2, 1, 0, 1, 2, 0, 1, 2, 0, 1, 2, 0, 1, 2, 0, 1, 2, 0, 1,\n",
      "       2, 0, 1, 2, 0, 1, 2, 0, 1, 2]))\n",
      "Division by zero: N_unconnected = 0 at (array([0, 0, 0, 1, 1]), array([0, 1, 2, 1, 2]))\n"
     ]
    },
    {
     "name": "stderr",
     "output_type": "stream",
     "text": [
      "/tmp/ipykernel_11990/3773222365.py:7: RuntimeWarning: invalid value encountered in divide\n",
      "  r_correct_connected     = N_correct_connected   /   N_connected\n",
      "/tmp/ipykernel_11990/3773222365.py:8: RuntimeWarning: invalid value encountered in divide\n",
      "  r_correct_unconnected   = N_correct_unconnected /   N_unconnected\n"
     ]
    }
   ],
   "source": [
    "# ratios\n",
    "if len(np.where(N_connected==0)[0])>0:\n",
    "    print(f\"Division by zero: N_connected   = 0 at {np.where(N_connected==0)}\")\n",
    "if len(np.where(N_unconnected==0)[0])>0:\n",
    "    print(f\"Division by zero: N_unconnected = 0 at {np.where(N_unconnected==0)}\")\n",
    "\n",
    "r_correct_connected     = N_correct_connected   /   N_connected\n",
    "r_correct_unconnected   = N_correct_unconnected /   N_unconnected"
   ]
  },
  {
   "cell_type": "code",
   "execution_count": 57,
   "metadata": {},
   "outputs": [],
   "source": [
    "# statistics\n",
    "r_correct_connected_mean    = np.mean(r_correct_connected, axis=1)\n",
    "dr_correct_connected        = np.std(r_correct_connected, axis=1)\n",
    "dr_mean_correct_connected   = dr_correct_connected / np.sqrt(N_stat)\n",
    "\n",
    "r_correct_unconnected_mean  = np.mean(r_correct_unconnected, axis=1)\n",
    "dr_correct_unconnected      = np.std(r_correct_unconnected, axis=1)\n",
    "dr_mean_correct_unconnected = dr_correct_unconnected / np.sqrt(N_stat)"
   ]
  },
  {
   "cell_type": "code",
   "execution_count": 58,
   "metadata": {},
   "outputs": [
    {
     "name": "stdout",
     "output_type": "stream",
     "text": [
      "total number of runs per neglection thresold: 100\n",
      "obtained ratios:\n",
      "correct connected: \n",
      "[0.89       0.92979798 0.90127465 0.8937559  0.90365053 0.90666451\n",
      " 0.91106784 0.87432996 0.84391741 0.89057239 0.8627451  0.87992288\n",
      " 0.82792793 0.86324786 0.97568523 0.75455706 0.76893939 0.79993386\n",
      " 0.79365079 0.66388889 0.68333333 0.85185185 0.81904762 0.67142857\n",
      " 0.72222222 0.66666667 0.5        0.66666667        nan        nan\n",
      "        nan        nan        nan        nan        nan        nan\n",
      "        nan        nan        nan        nan        nan] +- [0.00471405 0.00457194 0.01765207 0.01391595 0.00891554 0.00739814\n",
      " 0.01020548 0.00674421 0.01497404 0.02622519 0.04235778 0.00954092\n",
      " 0.01802177 0.02904307 0.00997066 0.0120192  0.0461852  0.00907234\n",
      " 0.03240066 0.2222338  0.07576768 0.12096246 0.09555503 0.07284314\n",
      " 0.12001372 0.13608276 0.23570226 0.13608276        nan        nan\n",
      "        nan        nan        nan        nan        nan        nan\n",
      "        nan        nan        nan        nan        nan], \n",
      "unconnected: \n",
      "[       nan        nan 1.         1.         0.93939394 0.98333333\n",
      " 0.95310245 0.9215452  0.87430078 0.91807332 0.93877551 0.91152623\n",
      " 0.91243386 0.92033462 0.90796054 0.89612573 0.87404408 0.90900704\n",
      " 0.8871308  0.86260851 0.85998205 0.83980424 0.81065386 0.79075723\n",
      " 0.80591504 0.81218879 0.81350924 0.82589943 0.77851852 0.74385281\n",
      " 0.74582492 0.71474747 0.71       0.70666667 0.66       0.64\n",
      " 0.63       0.64       0.65666667 0.67333333 0.67      ] +- [       nan        nan 0.         0.         0.08570991 0.02357023\n",
      " 0.03889418 0.06591932 0.03262096 0.01718235 0.04408667 0.02110812\n",
      " 0.00894008 0.01446489 0.03964546 0.01419464 0.0151317  0.0475987\n",
      " 0.01715554 0.02031473 0.04676739 0.02703571 0.01407617 0.04832288\n",
      " 0.03222306 0.03218874 0.02709002 0.00911557 0.01652811 0.03305891\n",
      " 0.03676086 0.02095045 0.01632993 0.03399346 0.05354126 0.04320494\n",
      " 0.04966555 0.02160247 0.02867442 0.00471405 0.05715476]\n"
     ]
    },
    {
     "data": {
      "image/png": "[encoded data removed]",
      "text/plain": [
       "<Figure size 640x480 with 1 Axes>"
      ]
     },
     "metadata": {},
     "output_type": "display_data"
    }
   ],
   "source": [
    "# Results\n",
    "\n",
    "print(f\"total number of runs per neglection thresold: {blocksize}\")\n",
    "print(\"obtained ratios:\")\n",
    "print(f\"correct connected: \\n{r_correct_connected_mean} +- {dr_mean_correct_connected}, \\nunconnected: \\n{r_correct_unconnected_mean} +- {dr_correct_unconnected}\")\n",
    "\n",
    "# Plotting\n",
    "plt.errorbar(x=neglection_thres, y=r_correct_connected_mean, yerr=dr_mean_correct_connected, label=\"connected\", capsize=2, ls=\"none\", marker=\".\")\n",
    "plt.errorbar(x=neglection_thres, y=r_correct_unconnected_mean, yerr=dr_mean_correct_unconnected, label=\"unconnected\", capsize=2, ls=\"none\", marker=\".\")\n",
    "plt.xlabel(r\"neglection thresold $\\eta$\")\n",
    "plt.ylabel(\"ratio of correct detections\")\n",
    "plt.legend()\n",
    "plt.grid()\n",
    "plt.show()"
   ]
  },
  {
   "cell_type": "code",
   "execution_count": null,
   "metadata": {},
   "outputs": [],
   "source": []
  }
 ],
 "metadata": {
  "kernelspec": {
   "display_name": "Python 3",
   "language": "python",
   "name": "python3"
  },
  "language_info": {
   "codemirror_mode": {
    "name": "ipython",
    "version": 3
   },
   "file_extension": ".py",
   "mimetype": "text/x-python",
   "name": "python",
   "nbconvert_exporter": "python",
   "pygments_lexer": "ipython3",
   "version": "3.10.12"
  }
 },
 "nbformat": 4,
 "nbformat_minor": 2
}
