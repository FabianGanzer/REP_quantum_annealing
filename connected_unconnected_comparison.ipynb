{
 "cells": [
  {
   "cell_type": "code",
   "execution_count": 13,
   "metadata": {},
   "outputs": [],
   "source": [
    "import numpy as np\n",
    "import matplotlib.pyplot as plt\n",
    "from hamming_distance_distribution import hamming_distance\n",
    "from annealing import adjacency_from_couplings\n",
    "from graph import is_connected"
   ]
  },
  {
   "cell_type": "code",
   "execution_count": 14,
   "metadata": {},
   "outputs": [],
   "source": [
    "def annealing_by_connection(blocksize, fname):\n",
    "    \"\"\"Counts the number of correct detections and the number of all detections for\n",
    "    connected graphs and for unconnected graphs separately. \n",
    "    \n",
    "    Parameters:\n",
    "    - blocksize     number of datapoints which should be used for counting\n",
    "    - fname         data file to read the data from\n",
    "\n",
    "    Returns:\n",
    "    - N_correct_connected       number of correct detections among the subset of all connected graphs\n",
    "    - N_correct_unconnected     number of correct detections among the subset of all unconnected graphs\n",
    "    - N_connected               total number of connected graphs\n",
    "    - N_unconnected             total number of unconnected graphs\n",
    "    \"\"\"\n",
    "    # read data from file\n",
    "    data = np.load(fname, allow_pickle=True).item()\n",
    "\n",
    "    N_blocks = int(data['size']/blocksize)\n",
    "    N_correct_connected     = np.zeros(N_blocks)\n",
    "    N_correct_unconnected   = np.zeros(N_blocks)\n",
    "    N_connected             = np.zeros(N_blocks)\n",
    "    N_unconnected           = np.zeros(N_blocks)\n",
    "\n",
    "    for j in range(N_blocks):\n",
    "\n",
    "        for i in range(blocksize):\n",
    "            # get annealing results\n",
    "            J_n         = data[\"J_n\"][j*blocksize + i]\n",
    "            alpha       = data[\"alpha\"][j*blocksize + i]\n",
    "            gs_array1   = data[\"gs_array\"][j*blocksize + i]\n",
    "      \n",
    "            # classify annealing result\n",
    "            d_Hamming = hamming_distance(alpha, gs_array1)\n",
    "            connected = is_connected(adjacency_from_couplings(J_n))\n",
    "\n",
    "            if connected:\n",
    "                N_connected[j] += 1\n",
    "                if d_Hamming==0:\n",
    "                    N_correct_connected[j] += 1\n",
    "\n",
    "            if not connected:\n",
    "                N_unconnected[j] += 1\n",
    "                if d_Hamming==0:\n",
    "                    N_correct_unconnected[j] += 1\n",
    "\n",
    "    return N_correct_connected, N_correct_unconnected, N_connected, N_unconnected\n"
   ]
  },
  {
   "cell_type": "code",
   "execution_count": 15,
   "metadata": {},
   "outputs": [],
   "source": [
    "# ---------- Parameters for reading data file -------------\n",
    "paths = [\"./annealing_data/\", \"./exhaustive_search_data/\"]\n",
    "path = paths[1]\n",
    "\n",
    "N = 5               # number of users\n",
    "M = 4               # length of id-sequence for every user\n",
    "K = 100              # number of antennas\n",
    "xi = 0              # std of thermal noise\n",
    "\n",
    "thres_min = 0         # rule=1: 0.0\n",
    "thres_max = 4         # rule=1: 0.4\n",
    "thres_step = 1       # rule=1: 0.01\n",
    "neglection_rule = 3     # 1: threshold method, 2: neglect a certain number of couplings, 3: set maximum degree for each node\n",
    "\n",
    "blocksize = 100       # resolution of y axis (equal to N_repeat from other program)"
   ]
  },
  {
   "cell_type": "code",
   "execution_count": 16,
   "metadata": {},
   "outputs": [
    {
     "name": "stdout",
     "output_type": "stream",
     "text": [
      "file includes 5000 runs which get split into 50 blocks of size 100.\n",
      "0: 50 blocks in ./exhaustive_search_data/rule_3/neglection_thres_0.0_N_5_M_4_K_100_xi_0.npy\n",
      "1: 50 blocks in ./exhaustive_search_data/rule_3/neglection_thres_1.0_N_5_M_4_K_100_xi_0.npy\n",
      "2: 50 blocks in ./exhaustive_search_data/rule_3/neglection_thres_2.0_N_5_M_4_K_100_xi_0.npy\n",
      "3: 50 blocks in ./exhaustive_search_data/rule_3/neglection_thres_3.0_N_5_M_4_K_100_xi_0.npy\n",
      "4: 50 blocks in ./exhaustive_search_data/rule_3/neglection_thres_4.0_N_5_M_4_K_100_xi_0.npy\n"
     ]
    }
   ],
   "source": [
    "path += f\"rule_{neglection_rule}/\"\n",
    "\n",
    "# ---------- Program ----------\n",
    "thres_min = float(thres_min)\n",
    "thres_max = float(thres_max)\n",
    "\n",
    "N_neglection_thres = int((thres_max-thres_min)/thres_step)+1\n",
    "data = np.load(path + f\"neglection_thres_{thres_min}_N_5_M_4_K_100_xi_0.npy\", allow_pickle=True).item()\n",
    "\n",
    "N_blocks = int(data[\"size\"]/blocksize)\n",
    "print(f\"file includes {data['size']} runs which get split into {N_blocks} blocks of size {blocksize}.\")\n",
    "N_stat = N_blocks\n",
    "\n",
    "N_correct_connected     = np.zeros(shape=(N_neglection_thres, N_stat))\n",
    "N_correct_unconnected   = np.zeros(shape=(N_neglection_thres, N_stat))\n",
    "N_connected             = np.zeros(shape=(N_neglection_thres, N_stat))\n",
    "N_unconnected           = np.zeros(shape=(N_neglection_thres, N_stat))\n",
    "\n",
    "neglection_thres = np.zeros(N_neglection_thres)\n",
    "\n",
    "for i in range(N_neglection_thres):\n",
    "    neglection_thres[i] = thres_min + i*thres_step\n",
    "    neglection_thres[i] = np.round(neglection_thres[i], 6)\n",
    "\n",
    "    fname = path + f\"neglection_thres_{neglection_thres[i]}_N_{N}_M_{M}_K_{K}_xi_{xi}.npy\"\n",
    "    result = annealing_by_connection(blocksize, fname)\n",
    "    print(f\"{i}: {len(result[0])} blocks in {fname}\")\n",
    "\n",
    "    N_correct_connected[i]      = result[0]\n",
    "    N_correct_unconnected[i]    = result[1]\n",
    "    N_connected[i]              = result[2]\n",
    "    N_unconnected[i]            = result[3]\n"
   ]
  },
  {
   "cell_type": "code",
   "execution_count": 17,
   "metadata": {},
   "outputs": [
    {
     "name": "stdout",
     "output_type": "stream",
     "text": [
      "Division by zero: N_connected   = 0 at (array([0, 0, 0, 0, 0, 0, 0, 0, 0, 0, 0, 0, 0, 0, 0, 0, 0, 0, 0, 0, 0, 0,\n",
      "       0, 0, 0, 0, 0, 0, 0, 0, 0, 0, 0, 0, 0, 0, 0, 0, 0, 0, 0, 0, 0, 0,\n",
      "       0, 0, 0, 0, 0, 0, 1, 1, 1, 1, 1, 1, 1, 1, 1, 1, 1, 1, 1, 1, 1, 1,\n",
      "       1, 1, 1, 1, 1, 1, 1, 1, 1, 1, 1, 1, 1, 1, 1, 1, 1, 1, 1, 1, 1, 1,\n",
      "       1, 1, 1, 1, 1, 1, 1, 1, 1, 1, 1, 1]), array([ 0,  1,  2,  3,  4,  5,  6,  7,  8,  9, 10, 11, 12, 13, 14, 15, 16,\n",
      "       17, 18, 19, 20, 21, 22, 23, 24, 25, 26, 27, 28, 29, 30, 31, 32, 33,\n",
      "       34, 35, 36, 37, 38, 39, 40, 41, 42, 43, 44, 45, 46, 47, 48, 49,  0,\n",
      "        1,  2,  3,  4,  5,  6,  7,  8,  9, 10, 11, 12, 13, 14, 15, 16, 17,\n",
      "       18, 19, 20, 21, 22, 23, 24, 25, 26, 27, 28, 29, 30, 31, 32, 33, 34,\n",
      "       35, 36, 37, 38, 39, 40, 41, 42, 43, 44, 45, 46, 47, 48, 49]))\n",
      "Division by zero: N_unconnected = 0 at (array([4, 4, 4, 4, 4, 4, 4, 4, 4, 4, 4, 4, 4, 4, 4, 4, 4, 4, 4, 4, 4, 4,\n",
      "       4, 4, 4, 4, 4, 4, 4, 4, 4, 4, 4, 4, 4, 4, 4, 4, 4, 4, 4, 4, 4, 4,\n",
      "       4, 4, 4, 4, 4, 4]), array([ 0,  1,  2,  3,  4,  5,  6,  7,  8,  9, 10, 11, 12, 13, 14, 15, 16,\n",
      "       17, 18, 19, 20, 21, 22, 23, 24, 25, 26, 27, 28, 29, 30, 31, 32, 33,\n",
      "       34, 35, 36, 37, 38, 39, 40, 41, 42, 43, 44, 45, 46, 47, 48, 49]))\n"
     ]
    },
    {
     "name": "stderr",
     "output_type": "stream",
     "text": [
      "/tmp/ipykernel_4574/3773222365.py:7: RuntimeWarning: invalid value encountered in divide\n",
      "  r_correct_connected     = N_correct_connected   /   N_connected\n",
      "/tmp/ipykernel_4574/3773222365.py:8: RuntimeWarning: invalid value encountered in divide\n",
      "  r_correct_unconnected   = N_correct_unconnected /   N_unconnected\n"
     ]
    }
   ],
   "source": [
    "# ratios\n",
    "if len(np.where(N_connected==0)[0])>0:\n",
    "    print(f\"Division by zero: N_connected   = 0 at {np.where(N_connected==0)}\")\n",
    "if len(np.where(N_unconnected==0)[0])>0:\n",
    "    print(f\"Division by zero: N_unconnected = 0 at {np.where(N_unconnected==0)}\")\n",
    "\n",
    "r_correct_connected     = N_correct_connected   /   N_connected\n",
    "r_correct_unconnected   = N_correct_unconnected /   N_unconnected"
   ]
  },
  {
   "cell_type": "code",
   "execution_count": 18,
   "metadata": {},
   "outputs": [],
   "source": [
    "# statistics\n",
    "r_correct_connected_mean    = np.mean(r_correct_connected, axis=1)\n",
    "dr_correct_connected        = np.std(r_correct_connected, axis=1)\n",
    "dr_mean_correct_connected   = dr_correct_connected / np.sqrt(N_stat)\n",
    "\n",
    "r_correct_unconnected_mean  = np.mean(r_correct_unconnected, axis=1)\n",
    "dr_correct_unconnected      = np.std(r_correct_unconnected, axis=1)\n",
    "dr_mean_correct_unconnected = dr_correct_unconnected / np.sqrt(N_stat)"
   ]
  },
  {
   "cell_type": "code",
   "execution_count": 19,
   "metadata": {},
   "outputs": [
    {
     "name": "stdout",
     "output_type": "stream",
     "text": [
      "total number of runs per neglection threshold: 100\n",
      "obtained ratios:\n",
      "correct connected: \n",
      "[       nan        nan 0.92844271 0.96357935 0.9896    ] +- [       nan        nan 0.00580073 0.00282235 0.00138449], \n",
      "unconnected: \n",
      "[0.5444     0.7658     0.86837327 0.96163348        nan] +- [0.05650345 0.04459103 0.04347676 0.0614759         nan]\n"
     ]
    },
    {
     "data": {
      "image/png": "[encoded data removed]",
      "text/plain": [
       "<Figure size 640x480 with 1 Axes>"
      ]
     },
     "metadata": {},
     "output_type": "display_data"
    }
   ],
   "source": [
    "# Results\n",
    "\n",
    "print(f\"total number of runs per neglection threshold: {blocksize}\")\n",
    "print(\"obtained ratios:\")\n",
    "print(f\"correct connected: \\n{r_correct_connected_mean} +- {dr_mean_correct_connected}, \\nunconnected: \\n{r_correct_unconnected_mean} +- {dr_correct_unconnected}\")\n",
    "\n",
    "# Plotting\n",
    "xlabels = [\"\", r\"neglection threshold $\\eta$\", \"number of neglected matrix elements\", \"max. degree of nodes\"]\n",
    "plt.errorbar(x=neglection_thres, y=r_correct_connected_mean, yerr=dr_mean_correct_connected, label=\"connected\", capsize=2, ls=\"none\", marker=\".\")\n",
    "plt.errorbar(x=neglection_thres, y=r_correct_unconnected_mean, yerr=dr_mean_correct_unconnected, label=\"unconnected\", capsize=2, ls=\"none\", marker=\".\")\n",
    "plt.xlabel(xlabels[neglection_rule])\n",
    "plt.ylabel(\"ratio of correct detections\")\n",
    "plt.legend()\n",
    "plt.grid()\n",
    "if neglection_rule == 3:            # this is done so that in the diagram the original, unmodified problem is always on the left and the most modified problem is on the right. \n",
    "    plt.gca().invert_xaxis()\n",
    "plt.show()"
   ]
  },
  {
   "cell_type": "code",
   "execution_count": 21,
   "metadata": {},
   "outputs": [
    {
     "name": "stdout",
     "output_type": "stream",
     "text": [
      "UER = 1 - r\n"
     ]
    },
    {
     "data": {
      "image/png": "[encoded data removed]",
      "text/plain": [
       "<Figure size 640x480 with 1 Axes>"
      ]
     },
     "metadata": {},
     "output_type": "display_data"
    }
   ],
   "source": [
    "# use the same data but show it in a different fashion: The user error rate\n",
    "print(f\"UER = 1 - r\")\n",
    "# Plotting\n",
    "plt.errorbar(x=neglection_thres, y=1-r_correct_connected_mean, yerr=dr_mean_correct_connected, label=\"connected\", capsize=2, ls=\"none\", marker=\".\")\n",
    "plt.errorbar(x=neglection_thres, y=1-r_correct_unconnected_mean, yerr=dr_mean_correct_unconnected, label=\"unconnected\", capsize=2, ls=\"none\", marker=\".\")\n",
    "plt.xlabel(xlabels[neglection_rule])\n",
    "plt.ylabel(\"UER\")\n",
    "plt.legend()\n",
    "plt.grid()\n",
    "if neglection_rule == 3: \n",
    "    plt.gca().invert_xaxis()\n",
    "plt.show()"
   ]
  },
  {
   "cell_type": "code",
   "execution_count": null,
   "metadata": {},
   "outputs": [],
   "source": []
  }
 ],
 "metadata": {
  "kernelspec": {
   "display_name": "usr",
   "language": "python",
   "name": "python3"
  },
  "language_info": {
   "codemirror_mode": {
    "name": "ipython",
    "version": 3
   },
   "file_extension": ".py",
   "mimetype": "text/x-python",
   "name": "python",
   "nbconvert_exporter": "python",
   "pygments_lexer": "ipython3",
   "version": "3.10.12"
  }
 },
 "nbformat": 4,
 "nbformat_minor": 2
}
