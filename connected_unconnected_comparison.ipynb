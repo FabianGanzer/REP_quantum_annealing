{
 "cells": [
  {
   "cell_type": "code",
   "execution_count": 34,
   "metadata": {},
   "outputs": [],
   "source": [
    "import numpy as np\n",
    "import matplotlib.pyplot as plt\n",
    "import time\n",
    "from hamming_distance_distribution import hamming_distance\n",
    "from annealing import solve_annealing, is_connected, adjacency_from_couplings, modify_coupling_matrix, get_groundstate\n",
    "from telecom import get_ising_parameters"
   ]
  },
  {
   "cell_type": "code",
   "execution_count": 35,
   "metadata": {},
   "outputs": [],
   "source": [
    "def annealing_by_connection(N_repeat, N, M, alpha, K, xi, neglection_thres, gamma, epsilon, which_ctl_fct, nb_pts_gap, nb_pts_time):\n",
    "    \"\"\"Annealing processes are done and the number of correct annealing results is counted.\n",
    "    Depending on the type of graph (connected or unconnected), the results are counted separately.\n",
    "\n",
    "    Returns:\n",
    "    - N_correct_connected   number of correct detections when the graph was connected\n",
    "    - N_correct_unconnected number of correct detections when the graph was unconnected\n",
    "    \"\"\"\n",
    "    alpha = np.array(alpha, dtype=int)          # important to force the type to int because otherwise the bitwise xor in hamming_distance doesn't work\n",
    "\n",
    "    N_correct_connected = 0\n",
    "    N_correct_unconnected = 0\n",
    "\n",
    "    for _ in range(N_repeat):\n",
    "        # annealing\n",
    "        J, b, *_ = get_ising_parameters(N, M, alpha, K, xi, False)\n",
    "        J_n, _ = modify_coupling_matrix(J, 1, neglection_thres, False)\n",
    "        _, _, _, _, _, _, _, _, Hscheduled1 = solve_annealing(J_n, b, gamma, epsilon, which_ctl_fct, nb_pts_gap, nb_pts_time, False)\n",
    "        _, _, gs_array1 = get_groundstate(Hscheduled1, 1)\n",
    "\n",
    "        # classify annealing result\n",
    "        d_Hamming = hamming_distance(alpha, gs_array1)\n",
    "        connected = is_connected(adjacency_from_couplings(J_n))\n",
    "\n",
    "        if connected and d_Hamming==0:\n",
    "            N_correct_connected += 1\n",
    "        if not connected and d_Hamming==0:\n",
    "            N_correct_unconnected += 1\n",
    "\n",
    "    return N_correct_connected, N_correct_unconnected\n"
   ]
  },
  {
   "cell_type": "code",
   "execution_count": 36,
   "metadata": {},
   "outputs": [],
   "source": [
    "# --------- Parameters ---------\n",
    "N_repeat = 100      # how many samples per neglection thresold\n",
    "N_stat = 10         # how often to repeat annealing_by_connection in order to obtain an average and errorbars\n",
    "\n",
    "N = 5               # number of users\n",
    "M = 4               # length of id-sequence for every user\n",
    "K = 100              # number of antennas\n",
    "xi = 0              # std of thermal noise\n",
    "\n",
    "which_ctl_fct = 0   # 0: linear control function, 1: optimal control function\n",
    "neglection_thres = [0.05, 0.1, 0.15]\n",
    "\n",
    "nb_pts_gap = 20     # number of points for the gap computation\n",
    "nb_pts_time = 30    # number of points for resolution of the time dependant Schrodinger's equation\n",
    "epsilon = 0.1       # precision level for the control function (valid for both, linear and optimal scheduling)\n",
    "gamma = 1           # strength of the transverse field, irrelevant for us "
   ]
  },
  {
   "cell_type": "code",
   "execution_count": 37,
   "metadata": {},
   "outputs": [
    {
     "name": "stderr",
     "output_type": "stream",
     "text": [
      "/home/fabian/.local/lib/python3.10/site-packages/scipy/integrate/_ode.py:1011: UserWarning: zvode: Excess work done on this call. (Perhaps wrong MF.)\n",
      "  warnings.warn('{:s}: {:s}'.format(self.__class__.__name__,\n"
     ]
    },
    {
     "name": "stdout",
     "output_type": "stream",
     "text": [
      "Error : QuTip has not converged\n",
      "Estimated runtime: 21.68 min\n",
      "Error : QuTip has not converged\n",
      "Error : QuTip has not converged\n",
      "Error : QuTip has not converged\n",
      "Error : QuTip has not converged\n",
      "Error : QuTip has not converged\n",
      "Error : QuTip has not converged\n",
      "Error : QuTip has not converged\n",
      "Error : QuTip has not converged\n",
      "Error : QuTip has not converged\n",
      "Error : QuTip has not converged\n",
      "Error : QuTip has not converged\n",
      "Error : QuTip has not converged\n",
      "Error : QuTip has not converged\n",
      "Error : QuTip has not converged\n",
      "Error : QuTip has not converged\n",
      "Error : QuTip has not converged\n",
      "Error : QuTip has not converged\n",
      "Error : QuTip has not converged\n",
      "Error : QuTip has not converged\n",
      "Error : QuTip has not converged\n",
      "Error : QuTip has not converged\n",
      "Error : QuTip has not converged\n",
      "Error : QuTip has not converged\n",
      "Error : QuTip has not converged\n",
      "Error : QuTip has not converged\n",
      "Error : QuTip has not converged\n",
      "Error : QuTip has not converged\n",
      "Error : QuTip has not converged\n",
      "Error : QuTip has not converged\n",
      "Error : QuTip has not converged\n",
      "Error : QuTip has not converged\n",
      "Error : QuTip has not converged\n",
      "Error : QuTip has not converged\n",
      "Error : QuTip has not converged\n",
      "Error : QuTip has not converged\n",
      "Error : QuTip has not converged\n",
      "Error : QuTip has not converged\n",
      "Error : QuTip has not converged\n",
      "Error : QuTip has not converged\n",
      "Error : QuTip has not converged\n",
      "Error : QuTip has not converged\n",
      "Error : QuTip has not converged\n",
      "Error : QuTip has not converged\n",
      "Error : QuTip has not converged\n",
      "Error : QuTip has not converged\n",
      "Error : QuTip has not converged\n",
      "Error : QuTip has not converged\n",
      "Error : QuTip has not converged\n",
      "Error : QuTip has not converged\n"
     ]
    }
   ],
   "source": [
    "# ----------- Program -------------\n",
    "neglection_thres = np.array(neglection_thres)\n",
    "\n",
    "# activity pattern\n",
    "alpha = np.zeros(N)\n",
    "alpha[0] = 1\n",
    "alpha[1] = 1\n",
    "\n",
    "# runtime estimation \n",
    "t0 = time.time()\n",
    "_ = annealing_by_connection(N_repeat, N, M, alpha, K, xi, neglection_thres[0], gamma, epsilon, which_ctl_fct, nb_pts_gap, nb_pts_time)\n",
    "t1 = time.time()\n",
    "t_run_est = (t1-t0)*N_stat*len(neglection_thres)\n",
    "print(f\"Estimated runtime: {t_run_est/60:.2f} min\")\n",
    "\n",
    "# generate data\n",
    "N_correct_connected = np.zeros(shape=(len(neglection_thres), N_stat))\n",
    "N_correct_unconnected = np.zeros(shape=(len(neglection_thres), N_stat))\n",
    "\n",
    "for i in range(len(neglection_thres)):\n",
    "    for j in range(N_stat):\n",
    "        result = annealing_by_connection(N_repeat, N, M, alpha, K, xi, neglection_thres[i], gamma, epsilon, which_ctl_fct, nb_pts_gap, nb_pts_time)    \n",
    "        N_correct_connected[i, j]   = result[0]\n",
    "        N_correct_unconnected[i, j] = result[1]\n",
    "\n"
   ]
  },
  {
   "cell_type": "code",
   "execution_count": 54,
   "metadata": {},
   "outputs": [],
   "source": [
    "# statistics\n",
    "N_correct_connected_mean    = np.mean(N_correct_connected, axis=1)\n",
    "dN_correct_connected        = np.std(N_correct_connected, axis=1)\n",
    "dN_mean_correct_connected   = dN_correct_connected / np.sqrt(N_stat)\n",
    "\n",
    "N_correct_unconnected_mean  = np.mean(N_correct_unconnected, axis=1)\n",
    "dN_correct_unconnected      = np.std(N_correct_unconnected, axis=1)\n",
    "dN_mean_correct_unconnected = dN_correct_unconnected / np.sqrt(N_stat)"
   ]
  },
  {
   "cell_type": "code",
   "execution_count": 55,
   "metadata": {},
   "outputs": [
    {
     "name": "stdout",
     "output_type": "stream",
     "text": [
      "total number of runs per neglection thresold: 100\n",
      "correct connected: [78.6 47.4 22.6] +- [1.4366628  1.45051715 1.22637678], unconnected: [11.5 43.5 65.6] +- [3.32415403 4.27200187 2.05912603]\n"
     ]
    },
    {
     "data": {
      "image/png": "[encoded data removed]",
      "text/plain": [
       "<Figure size 640x480 with 1 Axes>"
      ]
     },
     "metadata": {},
     "output_type": "display_data"
    }
   ],
   "source": [
    "# Results\n",
    "\n",
    "print(f\"total number of runs per neglection thresold: {N_repeat}\")\n",
    "print(f\"correct connected: {N_correct_connected_mean} +- {dN_mean_correct_connected}, unconnected: {N_correct_unconnected_mean} +- {dN_correct_unconnected}\")\n",
    "\n",
    "# Plotting\n",
    "plt.errorbar(neglection_thres, N_correct_connected_mean, yerr=dN_mean_correct_connected, label=\"connected\", capsize=2, ls=\"none\", marker=\".\")\n",
    "plt.errorbar(neglection_thres, N_correct_unconnected_mean, yerr=dN_mean_correct_unconnected, label=\"unconnected\", capsize=2, ls=\"none\", marker=\".\")\n",
    "plt.xlabel(r\"neglection thresold $\\eta$\")\n",
    "plt.ylabel(\"number of correct detections\")\n",
    "plt.legend()\n",
    "plt.grid()\n",
    "plt.show()"
   ]
  }
 ],
 "metadata": {
  "kernelspec": {
   "display_name": "Python 3",
   "language": "python",
   "name": "python3"
  },
  "language_info": {
   "codemirror_mode": {
    "name": "ipython",
    "version": 3
   },
   "file_extension": ".py",
   "mimetype": "text/x-python",
   "name": "python",
   "nbconvert_exporter": "python",
   "pygments_lexer": "ipython3",
   "version": "3.10.12"
  }
 },
 "nbformat": 4,
 "nbformat_minor": 2
}
