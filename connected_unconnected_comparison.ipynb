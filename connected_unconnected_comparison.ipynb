{
 "cells": [
  {
   "cell_type": "code",
   "execution_count": 13,
   "metadata": {},
   "outputs": [],
   "source": [
    "import numpy as np\n",
    "import matplotlib.pyplot as plt\n",
    "from hamming_distance_distribution import hamming_distance\n",
    "from annealing import adjacency_from_couplings\n",
    "from graph import is_connected"
   ]
  },
  {
   "cell_type": "code",
   "execution_count": 14,
   "metadata": {},
   "outputs": [],
   "source": [
    "def annealing_by_connection(blocksize, fname):\n",
    "\n",
    "    # read data from file\n",
    "    data = np.load(fname, allow_pickle=True).item()\n",
    "\n",
    "    N_blocks = int(data['size']/blocksize)\n",
    "    N_correct_connected     = np.zeros(N_blocks)\n",
    "    N_correct_unconnected   = np.zeros(N_blocks)\n",
    "    N_connected             = np.zeros(N_blocks)\n",
    "    N_unconnected           = np.zeros(N_blocks)\n",
    "\n",
    "    for j in range(N_blocks):\n",
    "\n",
    "        for i in range(blocksize):\n",
    "            # get annealing results\n",
    "            J_n         = data[\"J_n\"][j*blocksize + i]\n",
    "            alpha       = data[\"alpha\"][j*blocksize + i]\n",
    "            gs_array1   = data[\"gs_array\"][j*blocksize + i]\n",
    "      \n",
    "            # classify annealing result\n",
    "            d_Hamming = hamming_distance(alpha, gs_array1)\n",
    "            connected = is_connected(adjacency_from_couplings(J_n))\n",
    "\n",
    "            if connected:\n",
    "                N_connected[j] += 1\n",
    "                if d_Hamming==0:\n",
    "                    N_correct_connected[j] += 1\n",
    "\n",
    "            if not connected:\n",
    "                N_unconnected[j] += 1\n",
    "                if d_Hamming==0:\n",
    "                    N_correct_unconnected[j] += 1\n",
    "\n",
    "    return N_correct_connected, N_correct_unconnected, N_connected, N_unconnected\n"
   ]
  },
  {
   "cell_type": "code",
   "execution_count": 15,
   "metadata": {},
   "outputs": [],
   "source": [
    "# ---------- Parameters for reading data file -------------\n",
    "paths = [\"./annealing_data/\", \"./exhaustive_search_data/\"]\n",
    "path = paths[1]\n",
    "\n",
    "N = 5               # number of users\n",
    "M = 4               # length of id-sequence for every user\n",
    "K = 100              # number of antennas\n",
    "xi = 0              # std of thermal noise\n",
    "\n",
    "thres_min = 0.0         # rule=1: 0.0\n",
    "thres_max = 15         # rule=1: 0.4\n",
    "thres_step = 1       # rule=1: 0.01\n",
    "neglection_rule = 2\n",
    "\n",
    "blocksize = 100       # resolution of y axis (equal to N_repeat from other program)"
   ]
  },
  {
   "cell_type": "code",
   "execution_count": 16,
   "metadata": {},
   "outputs": [
    {
     "name": "stdout",
     "output_type": "stream",
     "text": [
      "file includes 110000 runs which get split into 1100 blocks of size 100.\n",
      "0: ./exhaustive_search_data/rule_2/neglection_thres_0.0_N_5_M_4_K_100_xi_0.npy\n",
      "1: ./exhaustive_search_data/rule_2/neglection_thres_1.0_N_5_M_4_K_100_xi_0.npy\n",
      "2: ./exhaustive_search_data/rule_2/neglection_thres_2.0_N_5_M_4_K_100_xi_0.npy\n",
      "3: ./exhaustive_search_data/rule_2/neglection_thres_3.0_N_5_M_4_K_100_xi_0.npy\n",
      "4: ./exhaustive_search_data/rule_2/neglection_thres_4.0_N_5_M_4_K_100_xi_0.npy\n",
      "5: ./exhaustive_search_data/rule_2/neglection_thres_5.0_N_5_M_4_K_100_xi_0.npy\n",
      "6: ./exhaustive_search_data/rule_2/neglection_thres_6.0_N_5_M_4_K_100_xi_0.npy\n",
      "7: ./exhaustive_search_data/rule_2/neglection_thres_7.0_N_5_M_4_K_100_xi_0.npy\n",
      "8: ./exhaustive_search_data/rule_2/neglection_thres_8.0_N_5_M_4_K_100_xi_0.npy\n",
      "9: ./exhaustive_search_data/rule_2/neglection_thres_9.0_N_5_M_4_K_100_xi_0.npy\n",
      "10: ./exhaustive_search_data/rule_2/neglection_thres_10.0_N_5_M_4_K_100_xi_0.npy\n",
      "11: ./exhaustive_search_data/rule_2/neglection_thres_11.0_N_5_M_4_K_100_xi_0.npy\n",
      "12: ./exhaustive_search_data/rule_2/neglection_thres_12.0_N_5_M_4_K_100_xi_0.npy\n",
      "13: ./exhaustive_search_data/rule_2/neglection_thres_13.0_N_5_M_4_K_100_xi_0.npy\n",
      "14: ./exhaustive_search_data/rule_2/neglection_thres_14.0_N_5_M_4_K_100_xi_0.npy\n",
      "15: ./exhaustive_search_data/rule_2/neglection_thres_15.0_N_5_M_4_K_100_xi_0.npy\n"
     ]
    }
   ],
   "source": [
    "path += f\"rule_{neglection_rule}/\"\n",
    "\n",
    "# ---------- Program ----------\n",
    "thres_min = float(thres_min)\n",
    "thres_max = float(thres_max)\n",
    "\n",
    "N_neglection_thres = int((thres_max-thres_min)/thres_step)+1\n",
    "data = np.load(path + f\"neglection_thres_{thres_min}_N_5_M_4_K_100_xi_0.npy\", allow_pickle=True).item()\n",
    "\n",
    "N_blocks = int(data[\"size\"]/blocksize)\n",
    "print(f\"file includes {data['size']} runs which get split into {N_blocks} blocks of size {blocksize}.\")\n",
    "N_stat = N_blocks\n",
    "\n",
    "N_correct_connected     = np.zeros(shape=(N_neglection_thres, N_stat))\n",
    "N_correct_unconnected   = np.zeros(shape=(N_neglection_thres, N_stat))\n",
    "N_connected             = np.zeros(shape=(N_neglection_thres, N_stat))\n",
    "N_unconnected           = np.zeros(shape=(N_neglection_thres, N_stat))\n",
    "\n",
    "neglection_thres = np.zeros(N_neglection_thres)\n",
    "\n",
    "for i in range(N_neglection_thres):\n",
    "    neglection_thres[i] = thres_min + i*thres_step\n",
    "    neglection_thres[i] = np.round(neglection_thres[i], 6)\n",
    "\n",
    "    fname = path + f\"neglection_thres_{neglection_thres[i]}_N_{N}_M_{M}_K_{K}_xi_{xi}.npy\"\n",
    "    print(f\"{i}: {fname}\")\n",
    "    result = annealing_by_connection(blocksize, fname)\n",
    "\n",
    "    N_correct_connected[i]      = result[0]\n",
    "    N_correct_unconnected[i]    = result[1]\n",
    "    N_connected[i]              = result[2]\n",
    "    N_unconnected[i]            = result[3]\n"
   ]
  },
  {
   "cell_type": "code",
   "execution_count": 17,
   "metadata": {},
   "outputs": [
    {
     "name": "stdout",
     "output_type": "stream",
     "text": [
      "Division by zero: N_connected   = 0 at (array([ 7,  7,  7, ..., 15, 15, 15]), array([   0,    1,    2, ..., 1097, 1098, 1099]))\n",
      "Division by zero: N_unconnected = 0 at (array([0, 0, 0, ..., 3, 3, 3]), array([   0,    1,    2, ..., 1097, 1098, 1099]))\n"
     ]
    },
    {
     "name": "stderr",
     "output_type": "stream",
     "text": [
      "/tmp/ipykernel_18242/3773222365.py:7: RuntimeWarning: invalid value encountered in divide\n",
      "  r_correct_connected     = N_correct_connected   /   N_connected\n",
      "/tmp/ipykernel_18242/3773222365.py:8: RuntimeWarning: invalid value encountered in divide\n",
      "  r_correct_unconnected   = N_correct_unconnected /   N_unconnected\n"
     ]
    }
   ],
   "source": [
    "# ratios\n",
    "if len(np.where(N_connected==0)[0])>0:\n",
    "    print(f\"Division by zero: N_connected   = 0 at {np.where(N_connected==0)}\")\n",
    "if len(np.where(N_unconnected==0)[0])>0:\n",
    "    print(f\"Division by zero: N_unconnected = 0 at {np.where(N_unconnected==0)}\")\n",
    "\n",
    "r_correct_connected     = N_correct_connected   /   N_connected\n",
    "r_correct_unconnected   = N_correct_unconnected /   N_unconnected"
   ]
  },
  {
   "cell_type": "code",
   "execution_count": 18,
   "metadata": {},
   "outputs": [],
   "source": [
    "# statistics\n",
    "r_correct_connected_mean    = np.mean(r_correct_connected, axis=1)\n",
    "dr_correct_connected        = np.std(r_correct_connected, axis=1)\n",
    "dr_mean_correct_connected   = dr_correct_connected / np.sqrt(N_stat)\n",
    "\n",
    "r_correct_unconnected_mean  = np.mean(r_correct_unconnected, axis=1)\n",
    "dr_correct_unconnected      = np.std(r_correct_unconnected, axis=1)\n",
    "dr_mean_correct_unconnected = dr_correct_unconnected / np.sqrt(N_stat)"
   ]
  },
  {
   "cell_type": "code",
   "execution_count": 19,
   "metadata": {},
   "outputs": [
    {
     "name": "stdout",
     "output_type": "stream",
     "text": [
      "total number of runs per neglection threshold: 100\n",
      "obtained ratios:\n",
      "correct connected: \n",
      "[0.99141818 0.98925455 0.98557273 0.97915455 0.96983531 0.95519686\n",
      " 0.9359076         nan        nan        nan        nan        nan\n",
      "        nan        nan        nan        nan] +- [0.00027452 0.00030286 0.00036197 0.00041472 0.00053586 0.00069584\n",
      " 0.00109013        nan        nan        nan        nan        nan\n",
      "        nan        nan        nan        nan], \n",
      "unconnected: \n",
      "[       nan        nan        nan        nan 0.95556588 0.90793365\n",
      " 0.90618723 0.8782     0.81170909 0.73379091 0.55178182 0.54662727\n",
      " 0.55058182 0.54894545 0.54882727 0.54866364] +- [       nan        nan        nan        nan 0.09340238 0.06922728\n",
      " 0.03997576 0.03209696 0.03911971 0.04573532 0.05083402 0.04953408\n",
      " 0.0498108  0.04998342 0.05024474 0.0491892 ]\n"
     ]
    },
    {
     "data": {
      "image/png": "[encoded data removed]",
      "text/plain": [
       "<Figure size 640x480 with 1 Axes>"
      ]
     },
     "metadata": {},
     "output_type": "display_data"
    }
   ],
   "source": [
    "# Results\n",
    "\n",
    "print(f\"total number of runs per neglection threshold: {blocksize}\")\n",
    "print(\"obtained ratios:\")\n",
    "print(f\"correct connected: \\n{r_correct_connected_mean} +- {dr_mean_correct_connected}, \\nunconnected: \\n{r_correct_unconnected_mean} +- {dr_correct_unconnected}\")\n",
    "\n",
    "# Plotting\n",
    "plt.errorbar(x=neglection_thres, y=r_correct_connected_mean, yerr=dr_mean_correct_connected, label=\"connected\", capsize=2, ls=\"none\", marker=\".\")\n",
    "plt.errorbar(x=neglection_thres, y=r_correct_unconnected_mean, yerr=dr_mean_correct_unconnected, label=\"unconnected\", capsize=2, ls=\"none\", marker=\".\")\n",
    "plt.xlabel(r\"neglection threshold $\\eta$\")\n",
    "plt.ylabel(\"ratio of correct detections\")\n",
    "plt.legend()\n",
    "plt.grid()\n",
    "plt.show()"
   ]
  },
  {
   "cell_type": "code",
   "execution_count": 20,
   "metadata": {},
   "outputs": [
    {
     "name": "stdout",
     "output_type": "stream",
     "text": [
      "UER = 1 - r\n"
     ]
    },
    {
     "data": {
      "image/png": "[encoded data removed]",
      "text/plain": [
       "<Figure size 640x480 with 1 Axes>"
      ]
     },
     "metadata": {},
     "output_type": "display_data"
    }
   ],
   "source": [
    "# use the same data but show it in a different fashion: The user error rate\n",
    "print(f\"UER = 1 - r\")\n",
    "# Plotting\n",
    "plt.errorbar(x=neglection_thres, y=1-r_correct_connected_mean, yerr=dr_mean_correct_connected, label=\"connected\", capsize=2, ls=\"none\", marker=\".\")\n",
    "plt.errorbar(x=neglection_thres, y=1-r_correct_unconnected_mean, yerr=dr_mean_correct_unconnected, label=\"unconnected\", capsize=2, ls=\"none\", marker=\".\")\n",
    "plt.xlabel(r\"neglection threshold $\\eta$\")\n",
    "plt.ylabel(\"UER\")\n",
    "plt.legend()\n",
    "plt.grid()\n",
    "plt.show()"
   ]
  },
  {
   "cell_type": "code",
   "execution_count": null,
   "metadata": {},
   "outputs": [],
   "source": []
  }
 ],
 "metadata": {
  "kernelspec": {
   "display_name": "usr",
   "language": "python",
   "name": "python3"
  },
  "language_info": {
   "codemirror_mode": {
    "name": "ipython",
    "version": 3
   },
   "file_extension": ".py",
   "mimetype": "text/x-python",
   "name": "python",
   "nbconvert_exporter": "python",
   "pygments_lexer": "ipython3",
   "version": "3.10.12"
  }
 },
 "nbformat": 4,
 "nbformat_minor": 2
}
