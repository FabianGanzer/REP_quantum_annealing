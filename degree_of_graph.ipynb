{
 "cells": [
  {
   "cell_type": "code",
   "execution_count": 56,
   "metadata": {},
   "outputs": [],
   "source": [
    "import numpy as np\n",
    "import matplotlib.pyplot as plt\n",
    "from hamming_distance_distribution import hamming_distance\n",
    "from annealing import is_connected, adjacency_from_couplings, degree_of_nodes"
   ]
  },
  {
   "cell_type": "code",
   "execution_count": 57,
   "metadata": {},
   "outputs": [],
   "source": [
    "def annealing_by_degree(fname):\n",
    "    pass"
   ]
  },
  {
   "cell_type": "code",
   "execution_count": 58,
   "metadata": {},
   "outputs": [],
   "source": [
    "# ---------- Parameters for reading data file -------------\n",
    "path = \"./annealing_data/\"\n",
    "\n",
    "N = 5               # number of users\n",
    "M = 4               # length of id-sequence for every user\n",
    "K = 100              # number of antennas\n",
    "xi = 0              # std of thermal noise"
   ]
  },
  {
   "cell_type": "code",
   "execution_count": 59,
   "metadata": {},
   "outputs": [
    {
     "name": "stdout",
     "output_type": "stream",
     "text": [
      "[[ 0.          0.          0.          0.         -0.46181011]\n",
      " [ 0.          0.          0.         -0.21812017  0.        ]\n",
      " [ 0.          0.          0.          0.          0.        ]\n",
      " [ 0.          0.          0.          0.          0.        ]\n",
      " [ 0.          0.          0.          0.          0.        ]]\n",
      "(array([0, 0, 0, 1, 1, 2, 2, 3]), array([1, 2, 3, 2, 4, 3, 4, 4]))\n",
      "[1 1 0 1 1]\n",
      "False\n"
     ]
    }
   ],
   "source": [
    "# ----------------- Program -----------------\n",
    "# check the degree distribution of different neglection thresolds\n",
    "fname = path + f\"neglection_thres_{0.15}_N_5_M_4_K_100_xi_0.npy\"\n",
    "data = np.load(fname, allow_pickle=True).item()\n",
    "\n",
    "i = 15\n",
    "print(data[\"J_n\"][i])\n",
    "print(data[\"where_n\"][i])\n",
    "print(degree_of_nodes(adjacency_from_couplings(data[\"J_n\"][i])))\n",
    "print(is_connected(adjacency_from_couplings(data[\"J_n\"][i])))"
   ]
  }
 ],
 "metadata": {
  "kernelspec": {
   "display_name": "Python 3",
   "language": "python",
   "name": "python3"
  },
  "language_info": {
   "codemirror_mode": {
    "name": "ipython",
    "version": 3
   },
   "file_extension": ".py",
   "mimetype": "text/x-python",
   "name": "python",
   "nbconvert_exporter": "python",
   "pygments_lexer": "ipython3",
   "version": "3.10.12"
  }
 },
 "nbformat": 4,
 "nbformat_minor": 2
}
